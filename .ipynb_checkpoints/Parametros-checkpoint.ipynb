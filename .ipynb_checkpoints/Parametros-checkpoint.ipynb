{
 "cells": [
  {
   "cell_type": "markdown",
   "id": "f5de8a02-f7d5-4c54-beea-b061395bddc9",
   "metadata": {},
   "source": [
    "Parâmetros do IQA - ANA"
   ]
  },
  {
   "cell_type": "code",
   "execution_count": 1,
   "id": "c13523c8-aa23-4367-9e3f-30313d59795d",
   "metadata": {},
   "outputs": [
    {
     "name": "stdout",
     "output_type": "stream",
     "text": [
      "---\n"
     ]
    }
   ],
   "source": [
    "print(\"---\")"
   ]
  },
  {
   "cell_type": "code",
   "execution_count": null,
   "id": "3ebf894a-0876-4984-aba1-1a28726d06af",
   "metadata": {},
   "outputs": [],
   "source": []
  }
 ],
 "metadata": {
  "kernelspec": {
   "display_name": "Python [conda env:base] *",
   "language": "python",
   "name": "conda-base-py"
  },
  "language_info": {
   "codemirror_mode": {
    "name": "ipython",
    "version": 3
   },
   "file_extension": ".py",
   "mimetype": "text/x-python",
   "name": "python",
   "nbconvert_exporter": "python",
   "pygments_lexer": "ipython3",
   "version": "3.12.7"
  }
 },
 "nbformat": 4,
 "nbformat_minor": 5
}
